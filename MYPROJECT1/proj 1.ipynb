{
 "cells": [
  {
   "cell_type": "markdown",
   "id": "704388b2",
   "metadata": {},
   "source": [
    "# The wedding reviews and details 2020"
   ]
  },
  {
   "cell_type": "code",
   "execution_count": 63,
   "id": "6865be60",
   "metadata": {},
   "outputs": [],
   "source": [
    "import pandas as pd"
   ]
  },
  {
   "cell_type": "code",
   "execution_count": 64,
   "id": "3c159418",
   "metadata": {},
   "outputs": [],
   "source": [
    "df = pd.read_csv(r\"C:\\Users\\ANESTHESIA\\Downloads\\wedding_reddit.csv\")"
   ]
  },
  {
   "cell_type": "code",
   "execution_count": 65,
   "id": "81f51357",
   "metadata": {},
   "outputs": [
    {
     "data": {
      "text/html": [
       "<div>\n",
       "<style scoped>\n",
       "    .dataframe tbody tr th:only-of-type {\n",
       "        vertical-align: middle;\n",
       "    }\n",
       "\n",
       "    .dataframe tbody tr th {\n",
       "        vertical-align: top;\n",
       "    }\n",
       "\n",
       "    .dataframe thead th {\n",
       "        text-align: right;\n",
       "    }\n",
       "</style>\n",
       "<table border=\"1\" class=\"dataframe\">\n",
       "  <thead>\n",
       "    <tr style=\"text-align: right;\">\n",
       "      <th></th>\n",
       "      <th>Unnamed: 0</th>\n",
       "      <th>index</th>\n",
       "      <th>title</th>\n",
       "      <th>score</th>\n",
       "      <th>id</th>\n",
       "      <th>url</th>\n",
       "      <th>comms_num</th>\n",
       "      <th>created</th>\n",
       "      <th>body</th>\n",
       "      <th>year</th>\n",
       "      <th>month</th>\n",
       "      <th>day</th>\n",
       "      <th>time</th>\n",
       "      <th>phase</th>\n",
       "    </tr>\n",
       "  </thead>\n",
       "  <tbody>\n",
       "    <tr>\n",
       "      <th>0</th>\n",
       "      <td>0</td>\n",
       "      <td>0</td>\n",
       "      <td>We got married today!!!❤❤❤</td>\n",
       "      <td>2381</td>\n",
       "      <td>gdlp8c</td>\n",
       "      <td>https://i.redd.it/1t1l9b4qrtw41.jpg</td>\n",
       "      <td>156</td>\n",
       "      <td>1.588660e+09</td>\n",
       "      <td>NaN</td>\n",
       "      <td>2020</td>\n",
       "      <td>5</td>\n",
       "      <td>5</td>\n",
       "      <td>06:32:36</td>\n",
       "      <td>during_lockdown</td>\n",
       "    </tr>\n",
       "    <tr>\n",
       "      <th>1</th>\n",
       "      <td>1</td>\n",
       "      <td>1</td>\n",
       "      <td>Just got married today!</td>\n",
       "      <td>4847</td>\n",
       "      <td>g7ujrr</td>\n",
       "      <td>https://www.reddit.com/r/teenagers/comments/g7...</td>\n",
       "      <td>197</td>\n",
       "      <td>1.587854e+09</td>\n",
       "      <td>**I am 13 years old. I'm being held hostage on...</td>\n",
       "      <td>2020</td>\n",
       "      <td>4</td>\n",
       "      <td>25</td>\n",
       "      <td>22:39:43</td>\n",
       "      <td>during_lockdown</td>\n",
       "    </tr>\n",
       "    <tr>\n",
       "      <th>2</th>\n",
       "      <td>2</td>\n",
       "      <td>2</td>\n",
       "      <td>Urm we literally got married today...</td>\n",
       "      <td>5765</td>\n",
       "      <td>gdwp7x</td>\n",
       "      <td>https://i.redd.it/gqda6cl5vxw41.png</td>\n",
       "      <td>79</td>\n",
       "      <td>1.588710e+09</td>\n",
       "      <td>NaN</td>\n",
       "      <td>2020</td>\n",
       "      <td>5</td>\n",
       "      <td>5</td>\n",
       "      <td>20:19:02</td>\n",
       "      <td>during_lockdown</td>\n",
       "    </tr>\n",
       "    <tr>\n",
       "      <th>3</th>\n",
       "      <td>3</td>\n",
       "      <td>3</td>\n",
       "      <td>Got married today coronavirus style!</td>\n",
       "      <td>1539</td>\n",
       "      <td>ggrz4v</td>\n",
       "      <td>https://i.redd.it/nqpb7lw89ux41.jpg</td>\n",
       "      <td>64</td>\n",
       "      <td>1.589102e+09</td>\n",
       "      <td>NaN</td>\n",
       "      <td>2020</td>\n",
       "      <td>5</td>\n",
       "      <td>10</td>\n",
       "      <td>09:14:59</td>\n",
       "      <td>during_lockdown</td>\n",
       "    </tr>\n",
       "    <tr>\n",
       "      <th>4</th>\n",
       "      <td>4</td>\n",
       "      <td>4</td>\n",
       "      <td>Got Married today!</td>\n",
       "      <td>4266</td>\n",
       "      <td>g59rcx</td>\n",
       "      <td>https://i.redd.it/s3x73oex24u41.jpg</td>\n",
       "      <td>124</td>\n",
       "      <td>1.587478e+09</td>\n",
       "      <td>NaN</td>\n",
       "      <td>2020</td>\n",
       "      <td>4</td>\n",
       "      <td>21</td>\n",
       "      <td>14:00:50</td>\n",
       "      <td>during_lockdown</td>\n",
       "    </tr>\n",
       "  </tbody>\n",
       "</table>\n",
       "</div>"
      ],
      "text/plain": [
       "   Unnamed: 0  index                                  title  score      id  \\\n",
       "0           0      0             We got married today!!!❤❤❤   2381  gdlp8c   \n",
       "1           1      1                Just got married today!   4847  g7ujrr   \n",
       "2           2      2  Urm we literally got married today...   5765  gdwp7x   \n",
       "3           3      3   Got married today coronavirus style!   1539  ggrz4v   \n",
       "4           4      4                     Got Married today!   4266  g59rcx   \n",
       "\n",
       "                                                 url  comms_num       created  \\\n",
       "0                https://i.redd.it/1t1l9b4qrtw41.jpg        156  1.588660e+09   \n",
       "1  https://www.reddit.com/r/teenagers/comments/g7...        197  1.587854e+09   \n",
       "2                https://i.redd.it/gqda6cl5vxw41.png         79  1.588710e+09   \n",
       "3                https://i.redd.it/nqpb7lw89ux41.jpg         64  1.589102e+09   \n",
       "4                https://i.redd.it/s3x73oex24u41.jpg        124  1.587478e+09   \n",
       "\n",
       "                                                body  year  month  day  \\\n",
       "0                                                NaN  2020      5    5   \n",
       "1  **I am 13 years old. I'm being held hostage on...  2020      4   25   \n",
       "2                                                NaN  2020      5    5   \n",
       "3                                                NaN  2020      5   10   \n",
       "4                                                NaN  2020      4   21   \n",
       "\n",
       "       time            phase  \n",
       "0  06:32:36  during_lockdown  \n",
       "1  22:39:43  during_lockdown  \n",
       "2  20:19:02  during_lockdown  \n",
       "3  09:14:59  during_lockdown  \n",
       "4  14:00:50  during_lockdown  "
      ]
     },
     "execution_count": 65,
     "metadata": {},
     "output_type": "execute_result"
    }
   ],
   "source": [
    "df.head()"
   ]
  },
  {
   "cell_type": "code",
   "execution_count": 66,
   "id": "8ea4aea5",
   "metadata": {},
   "outputs": [
    {
     "data": {
      "text/plain": [
       "Unnamed: 0     0\n",
       "index          0\n",
       "title          0\n",
       "score          0\n",
       "id             0\n",
       "url            0\n",
       "comms_num      0\n",
       "created        0\n",
       "body          75\n",
       "year           0\n",
       "month          0\n",
       "day            0\n",
       "time           0\n",
       "phase          0\n",
       "dtype: int64"
      ]
     },
     "execution_count": 66,
     "metadata": {},
     "output_type": "execute_result"
    }
   ],
   "source": [
    "df.isnull().sum()"
   ]
  },
  {
   "cell_type": "code",
   "execution_count": 67,
   "id": "73a7cd93",
   "metadata": {},
   "outputs": [
    {
     "data": {
      "text/plain": [
       "Index(['Unnamed: 0', 'index', 'title', 'score', 'id', 'url', 'comms_num',\n",
       "       'created', 'body', 'year', 'month', 'day', 'time', 'phase'],\n",
       "      dtype='object')"
      ]
     },
     "execution_count": 67,
     "metadata": {},
     "output_type": "execute_result"
    }
   ],
   "source": [
    "df.columns"
   ]
  },
  {
   "cell_type": "code",
   "execution_count": 68,
   "id": "44f42dd6",
   "metadata": {},
   "outputs": [],
   "source": [
    "from sklearn.feature_extraction.text import TfidfVectorizer\n",
    "from sklearn.metrics.pairwise import linear_kernel\n",
    "\n",
    "tfidf_vectorizer = TfidfVectorizer(stop_words='english')\n",
    "tfidf_matrix = tfidf_vectorizer.fit_transform(df['title'])"
   ]
  },
  {
   "cell_type": "code",
   "execution_count": 69,
   "id": "add4649a",
   "metadata": {},
   "outputs": [],
   "source": [
    "cosine_sim = linear_kernel(tfidf_matrix, tfidf_matrix)"
   ]
  },
  {
   "cell_type": "code",
   "execution_count": 70,
   "id": "2542afce",
   "metadata": {},
   "outputs": [],
   "source": [
    "def get_recommendations(title, cosine_sim=cosine_sim):\n",
    "    idx = df[df['title'] == title].index[0]\n",
    "    sim_scores = list(enumerate(cosine_sim[idx]))\n",
    "    sim_scores = sorted(sim_scores, key=lambda x: x[1], reverse=True)\n",
    "    sim_scores = sim_scores[1:6] \n",
    "    post_indices = [i[0] for i in sim_scores]\n",
    "    return df['title'].iloc[post_indices]"
   ]
  },
  {
   "cell_type": "code",
   "execution_count": 71,
   "id": "6558e22c",
   "metadata": {},
   "outputs": [
    {
     "name": "stdout",
     "output_type": "stream",
     "text": [
      "58    Got married today. My son was just as excited ...\n",
      "0                            We got married today!!!❤❤❤\n",
      "4                                    Got Married today!\n",
      "12                              We Got Married Today! 🥰\n",
      "20                  I got married today! 5’4” and 5’1”.\n",
      "Name: title, dtype: object\n"
     ]
    }
   ],
   "source": [
    "recommended_posts = get_recommendations('Just got married today!')\n",
    "print(recommended_posts)"
   ]
  },
  {
   "cell_type": "code",
   "execution_count": 72,
   "id": "8583a5dc",
   "metadata": {},
   "outputs": [
    {
     "name": "stdout",
     "output_type": "stream",
     "text": [
      "0              We got married today!!!❤❤❤\n",
      "4                      Got Married today!\n",
      "12                We Got Married Today! 🥰\n",
      "20    I got married today! 5’4” and 5’1”.\n",
      "27                   Got married today...\n",
      "Name: title, dtype: object\n"
     ]
    }
   ],
   "source": [
    "recommended_posts = get_recommendations('I got married today @ The Frick 🥰')\n",
    "print(recommended_posts)"
   ]
  },
  {
   "cell_type": "code",
   "execution_count": 73,
   "id": "eaa3b620",
   "metadata": {},
   "outputs": [
    {
     "name": "stdout",
     "output_type": "stream",
     "text": [
      "0              We got married today!!!❤❤❤\n",
      "4                      Got Married today!\n",
      "12                We Got Married Today! 🥰\n",
      "20    I got married today! 5’4” and 5’1”.\n",
      "27                   Got married today...\n",
      "Name: title, dtype: object\n"
     ]
    }
   ],
   "source": [
    "recommended_posts = get_recommendations('I got married today! Write me a trigger event')\n",
    "print(recommended_posts)"
   ]
  },
  {
   "cell_type": "code",
   "execution_count": 74,
   "id": "aae66d25",
   "metadata": {},
   "outputs": [
    {
     "name": "stdout",
     "output_type": "stream",
     "text": [
      "4                      Got Married today!\n",
      "12                We Got Married Today! 🥰\n",
      "20    I got married today! 5’4” and 5’1”.\n",
      "27                   Got married today...\n",
      "29                     Got married today!\n",
      "Name: title, dtype: object\n"
     ]
    }
   ],
   "source": [
    "recommended_posts = get_recommendations('Got married today!')\n",
    "print(recommended_posts)"
   ]
  },
  {
   "cell_type": "code",
   "execution_count": 75,
   "id": "d5750f47",
   "metadata": {},
   "outputs": [
    {
     "name": "stdout",
     "output_type": "stream",
     "text": [
      "28        RAY AND TINA GOT MARRIED TODAY!\n",
      "0              We got married today!!!❤❤❤\n",
      "4                      Got Married today!\n",
      "12                We Got Married Today! 🥰\n",
      "20    I got married today! 5’4” and 5’1”.\n",
      "Name: title, dtype: object\n"
     ]
    }
   ],
   "source": [
    "recommended_posts = get_recommendations('RAY AND TINA GOT MARRIED TODAY!')\n",
    "print(recommended_posts)"
   ]
  },
  {
   "cell_type": "code",
   "execution_count": 76,
   "id": "ecea53ee",
   "metadata": {},
   "outputs": [
    {
     "name": "stdout",
     "output_type": "stream",
     "text": [
      "38    One of my best buds streamed got married today...\n",
      "31    Got married today, best buddy boy and bridesgi...\n",
      "0                            We got married today!!!❤❤❤\n",
      "4                                    Got Married today!\n",
      "12                              We Got Married Today! 🥰\n",
      "Name: title, dtype: object\n"
     ]
    }
   ],
   "source": [
    "recommended_posts = get_recommendations('Buddy got married today. Watched through zoom.')\n",
    "print(recommended_posts)"
   ]
  },
  {
   "cell_type": "code",
   "execution_count": null,
   "id": "8f8d3482",
   "metadata": {},
   "outputs": [],
   "source": []
  }
 ],
 "metadata": {
  "kernelspec": {
   "display_name": "Python 3 (ipykernel)",
   "language": "python",
   "name": "python3"
  },
  "language_info": {
   "codemirror_mode": {
    "name": "ipython",
    "version": 3
   },
   "file_extension": ".py",
   "mimetype": "text/x-python",
   "name": "python",
   "nbconvert_exporter": "python",
   "pygments_lexer": "ipython3",
   "version": "3.9.12"
  }
 },
 "nbformat": 4,
 "nbformat_minor": 5
}
